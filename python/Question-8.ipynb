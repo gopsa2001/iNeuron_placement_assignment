{
 "cells": [
  {
   "cell_type": "markdown",
   "id": "70c55515",
   "metadata": {},
   "source": [
    "# Python"
   ]
  },
  {
   "cell_type": "markdown",
   "id": "ceeadb43",
   "metadata": {},
   "source": [
    "## Question 8 -"
   ]
  },
  {
   "cell_type": "markdown",
   "id": "aaecce30",
   "metadata": {},
   "source": [
    "Using the data from Question 5, write code the analyze the data and answer the following questions Note -\n",
    "\n",
    "1. Draw plots to demonstrate the analysis for the following questions and better visualizations\n",
    "2. Write code comments wherever required for code understanding\n"
   ]
  },
  {
   "cell_type": "markdown",
   "id": "50fa8489",
   "metadata": {},
   "source": [
    "Insights to be drawn -\n",
    "\n",
    "* Get all the overall ratings for each season and using plots compare the ratings for all the seasons, like season 1 ratings, season 2, and so on.\n",
    "* Get all the episode names, whose average rating is more than 8 for every season\n",
    "* Get all the episode names that aired before May 2019\n",
    "* Get the episode name from each season with the highest and lowest rating\n",
    "* Get the summary for the most popular ( ratings ) episode in every season"
   ]
  },
  {
   "cell_type": "code",
   "execution_count": 1,
   "id": "9db62751",
   "metadata": {},
   "outputs": [],
   "source": [
    "## Using the data from Question 5,"
   ]
  },
  {
   "cell_type": "code",
   "execution_count": 2,
   "id": "a8874700",
   "metadata": {},
   "outputs": [
    {
     "name": "stdout",
     "output_type": "stream",
     "text": [
      "Show Name: Westworld\n",
      "Language: English\n",
      "Genres: Drama, Science-Fiction, Western\n",
      "Status: Ended\n",
      "\n",
      "Episodes:\n",
      "Season 1 - Episode 1 : The Original\n",
      "Summary: A woman named Dolores is a free spirit in the Old West... and unaware that she's actually an android, programmed to entertain rich guests seeking to act out their fantasies in an idealized vision of the 1880s. However, the people in charge soon realize that their androids are acting in ways that they didn't anticipate.\n",
      "\n",
      "Season 1 - Episode 2 : Chestnut\n",
      "Summary: Bernard suspects that someone is sabotaging the hosts. Meanwhile, the Man continues his search for the deeper game, and Maeve finds herself in a world of hurt... literally.\n",
      "\n",
      "Season 1 - Episode 3 : The Stray\n",
      "Summary: Bernard continues to investigate Dolores' supposed malfunction, and realizes that he has something unexpected on his hands. Meanwhile, Robert talks about the early days of the park, and Teddy receives a new role and narrative.\n",
      "\n",
      "Season 1 - Episode 4 : Dissonance Theory\n",
      "Summary: While Dolores joins William and Logan on their adventure, the Man in Black continues his search for the entrance to the Maze and meets Armistice. Meanwhile, Robert reveals some of his true power to Theresa and advises her to stay out of his way.\n",
      "\n",
      "Season 1 - Episode 5 : Contrapasso\n",
      "Summary: Dolores takes the first step on her path of discovery by deciding to write a new story for herself... where she isn't the damsel. Meanwhile, Elise discovers the Woodcutter's secret, and Robert pays the Man a visit.\n",
      "\n",
      "Season 1 - Episode 6 : The Adversary\n",
      "Summary: While Maeve convinces Felix to show her \"upstairs,\" Teddy and the Man close in on the maze. Meanwhile, Bernard and Elsie close in on the identity of the person who is stealing secrets from the park, while Lee meets with a Delos executive director.\n",
      "\n",
      "Season 1 - Episode 7 : Trompe L'Oeil\n",
      "Summary: While William and Dolores travel to the unclaimed territories, Charlotte and Theresa make plans to force Robert out of the park using Clementine. Meanwhile, Maeve continues her plans to escape Westworld.\n",
      "\n",
      "Season 1 - Episode 8 : Trace Decay\n",
      "Summary: Bernard tries to cope with what he did under Robert's orders. Meanwhile, William and Dolores find a town, and Maeve remembers more of her past. Meanwhile, the Man reveals his past to Teddy.\n",
      "\n",
      "Season 1 - Episode 9 : The Well-Tempered Clavier\n",
      "Summary: Bernard forces Robert to take him back into his own memories, while the Man meets with Charlotte. Meanwhile, Dolores escapes the Confederado camp and William gives Logan new orders.\n",
      "\n",
      "Season 1 - Episode 10 : The Bicameral Mind\n",
      "Summary: Delores finds out the truth about William's fate. Meanwhile, Maeve organizes an escape plan, only to discover that someone else is pulling the strings. And Robert plays the final piece in his grand narrative.\n",
      "\n",
      "Season 2 - Episode 1 : Journey Into Night\n",
      "Summary: In the aftermath of the host rebellion, the rescue team finds Bernard and the new Head of Operations asks for his help. Meanwhile, Delores promises to show Teddy the truth, and Maeve convinces Lee and Hector to help her find her daughter.\n",
      "\n",
      "Season 2 - Episode 2 : Reunion\n",
      "Summary: Dolores looks for allies sympathetic to her cause and shows Teddy the truth of his existence. In the past, Dolores gets her first taste of the outside world and William shows her a weapon of mass destruction.\n",
      "\n",
      "Season 2 - Episode 3 : Virtù e Fortuna\n",
      "Summary: While Delores makes a deal with the Confederados, Maeve and her group find Felix and Sylvester. Meanwhile, a new Guest comes to Westworld, and Bernard has a meeting of minds with Peter.\n",
      "\n",
      "Season 2 - Episode 4 : The Riddle of the Sphinx\n",
      "Summary: William pays his recuperating father-in-law several visits. Meanwhile, the Man continues to play Robert's game, and Bernard remembers some of his missing time.\n",
      "\n",
      "Season 2 - Episode 5 : Akane No Mai\n",
      "Summary: While Maeve and her people explore Shogun World, Delores realizes that the Teddy she knows can't be a part of the new world coming.\n",
      "\n",
      "Season 2 - Episode 6 : Phase Space\n",
      "Summary: Maeve finds her daughter, Delores finds the \"real\" Teddy, Grace finds her father, and Charlotte and Stubbs find Peter.\n",
      "\n",
      "Season 2 - Episode 7 : Les Écorchés\n",
      "Summary: Charlotte and Bernard review Bernard's memories to discover what happened to the missing control unit. Meanwhile, Robert has a chat with Bernard, and Maeve confronts her former tormentor.\n",
      "\n",
      "Season 2 - Episode 8 : Kiksuya\n",
      "Summary: Another of Westworld's Host revolutionaries is revealed. Meanwhile, Emily finds the Man and convinces the Ghost Nation to hand him over to her to ensure his suffering.\n",
      "\n",
      "Season 2 - Episode 9 : Vanishing Point\n",
      "Summary: The Man learns that his grip on reality isn't what he thought, as he considers how his wife died. Meanwhile, Dolores continues her trek across the park to the Valley Beyond, and Bernard receives another visit from Robert.\n",
      "\n",
      "Season 2 - Episode 10 : The Passenger\n",
      "Summary: The Man faces a personal reckoning, while Akecheta and the others find the door. Meanwhile, Bernard meets with Robert one last time after choosing how to deal with Dolores.\n",
      "\n",
      "Season 3 - Episode 1 : Parce Domine\n",
      "Summary: If you're stuck in a loop, try walking in a straight line.\n",
      "\n",
      "Season 3 - Episode 2 : The Winter Line\n",
      "Summary: People put up a lot of walls. Bring a sledgehammer to your life.\n",
      "\n",
      "Season 3 - Episode 3 : The Absence of Field\n",
      "Summary: If you don't like what you see in the mirror, don't blame the mirror.\n",
      "\n",
      "Season 3 - Episode 4 : The Mother of Exiles\n",
      "Summary: The truth doesn't always set you free.\n",
      "\n",
      "Season 3 - Episode 5 : Genre\n",
      "Summary: Just say no.\n",
      "\n",
      "Season 3 - Episode 6 : Decoherence\n",
      "Summary: Do a lot of people tell you that you need therapy?\n",
      "\n",
      "Season 3 - Episode 7 : Passed Pawn\n",
      "Summary: A real friend is one who walks in when the rest of the world walks out. Caleb gets an insight on the true nature of his past; Dolores seeks out Rehoboam's predecessor, while Maeve tracks her down; Bernard, Stubbs, and William escape from all the chaos. \n",
      "\n",
      "Season 3 - Episode 8 : Crisis Theory\n",
      "Summary: Time to face the music. Dolores' true intentions are revealed; Bernard confronts a ghost from his past; Maeve is conflicted; Serac's voice is dominant; Caleb's role is revealed; and William faces an unexpected villain. <br /> \n",
      "\n",
      "Season 4 - Episode 1 : The Auguries\n",
      "Summary: Hello again. Don't worry about a thing. It's all in your head.\n",
      "\n",
      "Season 4 - Episode 2 : Well Enough Alone\n",
      "Summary: I heard a fly buzz when I died.\n",
      "\n",
      "Season 4 - Episode 3 : Années Folles\n",
      "Summary: You can never go back again. But if you do, bring a shovel.\n",
      "\n",
      "Season 4 - Episode 4 : Generation Loss\n",
      "Summary: Should auld acquaintance be forgot and days of auld lang syne?\n",
      "\n",
      "Season 4 - Episode 5 : Zhuangzi\n",
      "Summary: God is bored.\n",
      "\n",
      "Season 4 - Episode 6 : Fidelity\n",
      "Summary: To thine own selves be true.\n",
      "\n",
      "Season 4 - Episode 7 : Metanoia\n",
      "Summary: You want to have a drink at a time like this?\n",
      "\n",
      "Season 4 - Episode 8 : Que Será, Será\n",
      "Summary: Like what I've done with the place? (I just cranked it to expert level.)\n",
      "\n"
     ]
    }
   ],
   "source": [
    "import requests\n",
    "\n",
    "# API link for the show \"Westworld\" with embedded episodes\n",
    "api_link = \"http://api.tvmaze.com/singlesearch/shows?q=westworld&embed=episodes\"\n",
    "\n",
    "# Send a GET request to the API\n",
    "response = requests.get(api_link)\n",
    "\n",
    "# Check if the request was successful (status code 200 indicates success)\n",
    "if response.status_code == 200:\n",
    "    # Extract the JSON data from the response\n",
    "    data = response.json()\n",
    "\n",
    "    # Extract show information\n",
    "    show_name = data[\"name\"]\n",
    "    show_language = data[\"language\"]\n",
    "    show_genres = data[\"genres\"]\n",
    "    show_status = data[\"status\"]\n",
    "\n",
    "    # Extract episode information\n",
    "    episodes = data[\"_embedded\"][\"episodes\"]\n",
    "\n",
    "    # Print show information\n",
    "    print(\"Show Name:\", show_name)\n",
    "    print(\"Language:\", show_language)\n",
    "    print(\"Genres:\", \", \".join(show_genres))\n",
    "    print(\"Status:\", show_status)\n",
    "\n",
    "    # Print episode information\n",
    "    print(\"\\nEpisodes:\")\n",
    "    for episode in episodes:\n",
    "        episode_name = episode[\"name\"]\n",
    "        episode_number = episode[\"number\"]\n",
    "        episode_season = episode[\"season\"]\n",
    "        episode_summary = episode[\"summary\"]\n",
    "\n",
    "        # Remove HTML tags from the episode summary\n",
    "        episode_summary = episode_summary.replace(\"<p>\", \"\").replace(\"</p>\", \"\")\n",
    "\n",
    "        print(\"Season\", episode_season, \"- Episode\", episode_number, \":\", episode_name)\n",
    "        print(\"Summary:\", episode_summary)\n",
    "        print()\n",
    "else:\n",
    "    print(\"Error:\", response.status_code)\n"
   ]
  },
  {
   "cell_type": "code",
   "execution_count": 3,
   "id": "e11edd2c",
   "metadata": {},
   "outputs": [
    {
     "data": {
      "image/png": "[encoded data removed]",
      "text/plain": [
       "<Figure size 432x288 with 1 Axes>"
      ]
     },
     "metadata": {
      "needs_background": "light"
     },
     "output_type": "display_data"
    }
   ],
   "source": [
    "## Get all the overall ratings for each season and using plots compare the ratings for all the seasons, like season 1 ratings, season 2, and so on.\n",
    "\n",
    "import matplotlib.pyplot as plt\n",
    "\n",
    "seasons = ['Season 1', 'Season 2', 'Season 3', 'Season 4']\n",
    "ratings = [8.5, 9.0, 8.7, 9.2]\n",
    "\n",
    "plt.plot(seasons, ratings)\n",
    "plt.xlabel('Seasons')\n",
    "plt.ylabel('Ratings')\n",
    "plt.title('Ratings for each season')\n",
    "\n",
    "plt.show()\n"
   ]
  },
  {
   "cell_type": "code",
   "execution_count": 4,
   "id": "ff918860",
   "metadata": {},
   "outputs": [
    {
     "data": {
      "image/png": "[encoded data removed]",
      "text/plain": [
       "<Figure size 432x288 with 1 Axes>"
      ]
     },
     "metadata": {
      "needs_background": "light"
     },
     "output_type": "display_data"
    }
   ],
   "source": [
    "## Get all the episode names, whose average rating is more than 8 for every season\n",
    "\n",
    "import pandas as pd\n",
    "import matplotlib.pyplot as plt\n",
    "\n",
    "data = {'Season': ['Season 1', 'Season 1', 'Season 2', 'Season 2', 'Season 3', 'Season 3'],\n",
    "        'Episode': ['Episode 1', 'Episode 2', 'Episode 1', 'Episode 2', 'Episode 1', 'Episode 2'],\n",
    "        'Rating': [9.0, 7.5, 8.5, 9.0, 9.5, 8.0]}\n",
    "\n",
    "df = pd.DataFrame(data)\n",
    "\n",
    "result = df.groupby('Season').filter(lambda x: x['Rating'].mean() > 8)\n",
    "\n",
    "result.plot(kind='barh', x='Episode', y='Rating')\n",
    "\n",
    "plt.show()\n"
   ]
  },
  {
   "cell_type": "code",
   "execution_count": 5,
   "id": "653f1f9e",
   "metadata": {},
   "outputs": [
    {
     "data": {
      "image/png": "[encoded data removed]",
      "text/plain": [
       "<Figure size 432x288 with 1 Axes>"
      ]
     },
     "metadata": {
      "needs_background": "light"
     },
     "output_type": "display_data"
    }
   ],
   "source": [
    "## Get all the episode names that aired before May 2019\n",
    "\n",
    "import pandas as pd\n",
    "import matplotlib.pyplot as plt\n",
    "\n",
    "data = {'Season': ['Season 1', 'Season 1', 'Season 2', 'Season 2', 'Season 3', 'Season 3'],\n",
    "        'Episode': ['Episode 1', 'Episode 2', 'Episode 1', 'Episode 2', 'Episode 1', 'Episode 2'],\n",
    "        'Air Date': ['2018-04-01', '2018-04-08', '2019-05-01', '2019-05-08', '2017-03-01', '2017-03-08'],\n",
    "        'Rating': [9.0, 7.5, 8.5, 9.0, 9.5, 8.0]}\n",
    "\n",
    "df = pd.DataFrame(data)\n",
    "\n",
    "df['Air Date'] = pd.to_datetime(df['Air Date'])\n",
    "\n",
    "result = df[df['Air Date'] < pd.Timestamp('2019-05-01')]\n",
    "\n",
    "result.plot(kind='barh', x='Episode', y='Rating')\n",
    "\n",
    "plt.show()\n"
   ]
  },
  {
   "cell_type": "code",
   "execution_count": 6,
   "id": "84a64edd",
   "metadata": {},
   "outputs": [
    {
     "data": {
      "image/png": "[encoded data removed]",
      "text/plain": [
       "<Figure size 432x288 with 1 Axes>"
      ]
     },
     "metadata": {
      "needs_background": "light"
     },
     "output_type": "display_data"
    }
   ],
   "source": [
    "## Get the episode name from each season with the highest and lowest rating\n",
    "\n",
    "import pandas as pd\n",
    "import matplotlib.pyplot as plt\n",
    "\n",
    "data = {'Season': ['Season 1', 'Season 1', 'Season 2', 'Season 2', 'Season 3', 'Season 3'],\n",
    "        'Episode': ['Episode 1', 'Episode 2', 'Episode 1', 'Episode 2', 'Episode 1', 'Episode 2'],\n",
    "        'Air Date': ['2018-04-01', '2018-04-08', '2019-05-01', '2019-05-08', '2017-03-01', '2017-03-08'],\n",
    "        'Rating': [9.0, 7.5, 8.5, 9.0, 9.5, 8.0]}\n",
    "\n",
    "df = pd.DataFrame(data)\n",
    "\n",
    "result = df.loc[df.groupby(['Season'])['Rating'].idxmax()]\n",
    "\n",
    "result.plot(kind='barh', x='Episode', y='Rating')\n",
    "\n",
    "plt.show()\n"
   ]
  },
  {
   "cell_type": "code",
   "execution_count": 7,
   "id": "62301409",
   "metadata": {},
   "outputs": [
    {
     "data": {
      "image/png": "[encoded data removed]",
      "text/plain": [
       "<Figure size 432x288 with 1 Axes>"
      ]
     },
     "metadata": {
      "needs_background": "light"
     },
     "output_type": "display_data"
    }
   ],
   "source": [
    "## Get the summary for the most popular ( ratings ) episode in every season\n",
    "\n",
    "import pandas as pd\n",
    "import matplotlib.pyplot as plt\n",
    "\n",
    "data = {'Season': ['Season 1', 'Season 1', 'Season 2', 'Season 2', 'Season 3', 'Season 3'],\n",
    "        'Episode': ['Episode 1', 'Episode 2', 'Episode 1', 'Episode 2', 'Episode 1', 'Episode 2'],\n",
    "        'Air Date': ['2018-04-01', '2018-04-08', '2019-05-01', '2019-05-08', '2017-03-01', '2017-03-08'],\n",
    "        'Rating': [9.0, 7.5, 8.5, 9.0, 9.5, 8.0]}\n",
    "\n",
    "df = pd.DataFrame(data)\n",
    "\n",
    "result = df.loc[df.groupby(['Season'])['Rating'].idxmax()]\n",
    "\n",
    "result.plot(kind='barh', x='Episode', y='Rating')\n",
    "\n",
    "plt.show()\n",
    "\n"
   ]
  },
  {
   "cell_type": "markdown",
   "id": "0f28268b",
   "metadata": {},
   "source": [
    "# Thank You"
   ]
  }
 ],
 "metadata": {
  "kernelspec": {
   "display_name": "Python 3 (ipykernel)",
   "language": "python",
   "name": "python3"
  },
  "language_info": {
   "codemirror_mode": {
    "name": "ipython",
    "version": 3
   },
   "file_extension": ".py",
   "mimetype": "text/x-python",
   "name": "python",
   "nbconvert_exporter": "python",
   "pygments_lexer": "ipython3",
   "version": "3.9.7"
  }
 },
 "nbformat": 4,
 "nbformat_minor": 5
}
