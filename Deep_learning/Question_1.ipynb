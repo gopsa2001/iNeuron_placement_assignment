{
 "cells": [
  {
   "cell_type": "markdown",
   "id": "79920014",
   "metadata": {},
   "source": [
    "# Deep Learning Project :-\n",
    "SUBMITTED BY: Ambarish Singh"
   ]
  },
  {
   "cell_type": "markdown",
   "id": "b469508d",
   "metadata": {},
   "source": [
    "## Problem Statement:-\n",
    "\n",
    "### Question-1 :-\n",
    "\n",
    "Implement 3 different CNN architectures with a comparison table for the MNSIT\n",
    "dataset using the Tensorflow library.\n",
    "\n",
    "Note -\n",
    "\n",
    "1. The model parameters for each architecture should not be more than 8000\n",
    "parameters\n",
    "2. Code comments should be given for proper code understanding.\n",
    "3. The minimum accuracy for each accuracy should be at least 96%"
   ]
  },
  {
   "cell_type": "code",
   "execution_count": 6,
   "id": "bd97b07d",
   "metadata": {},
   "outputs": [],
   "source": [
    "## Importing Necessary Libruary\n",
    "import tensorflow as tf\n",
    "from tensorflow.keras.datasets import mnist\n",
    "from tensorflow.keras.models import Sequential\n",
    "from tensorflow.keras.layers import Conv2D, MaxPooling2D, Flatten, Dense"
   ]
  },
  {
   "cell_type": "code",
   "execution_count": 7,
   "id": "5c7fb669",
   "metadata": {},
   "outputs": [],
   "source": [
    "# Load the MNIST dataset\n",
    "(x_train, y_train), (x_test, y_test) = mnist.load_data()"
   ]
  },
  {
   "cell_type": "code",
   "execution_count": 8,
   "id": "c5b275be",
   "metadata": {},
   "outputs": [],
   "source": [
    "# Normalize the input images\n",
    "x_train = x_train / 255.0\n",
    "x_test = x_test / 255.0"
   ]
  },
  {
   "cell_type": "code",
   "execution_count": 9,
   "id": "8137ba35",
   "metadata": {},
   "outputs": [],
   "source": [
    "# Reshape the input images to include a single channel (grayscale)\n",
    "x_train = x_train.reshape(-1, 28, 28, 1)\n",
    "x_test = x_test.reshape(-1, 28, 28, 1)"
   ]
  },
  {
   "cell_type": "code",
   "execution_count": 10,
   "id": "627960f1",
   "metadata": {},
   "outputs": [],
   "source": [
    "# Define the first CNN architecture\n",
    "model1 = Sequential([\n",
    "    Conv2D(32, (3, 3), activation='relu', input_shape=(28, 28, 1)),\n",
    "    MaxPooling2D((2, 2)),\n",
    "    Flatten(),\n",
    "    Dense(128, activation='relu'),\n",
    "    Dense(10, activation='softmax')\n",
    "])"
   ]
  },
  {
   "cell_type": "code",
   "execution_count": 11,
   "id": "42842506",
   "metadata": {},
   "outputs": [],
   "source": [
    "# Compile the model\n",
    "model1.compile(optimizer='adam', loss='sparse_categorical_crossentropy', metrics=['accuracy'])\n"
   ]
  },
  {
   "cell_type": "code",
   "execution_count": 12,
   "id": "0ca6da0a",
   "metadata": {},
   "outputs": [
    {
     "name": "stdout",
     "output_type": "stream",
     "text": [
      "Epoch 1/10\n",
      "1875/1875 [==============================] - 80s 42ms/step - loss: 0.1500 - accuracy: 0.9564 - val_loss: 0.0587 - val_accuracy: 0.9806\n",
      "Epoch 2/10\n",
      "1875/1875 [==============================] - 74s 39ms/step - loss: 0.0521 - accuracy: 0.9843 - val_loss: 0.0432 - val_accuracy: 0.9852\n",
      "Epoch 3/10\n",
      "1875/1875 [==============================] - 87s 46ms/step - loss: 0.0340 - accuracy: 0.9894 - val_loss: 0.0481 - val_accuracy: 0.9822\n",
      "Epoch 4/10\n",
      "1875/1875 [==============================] - 81s 43ms/step - loss: 0.0225 - accuracy: 0.9931 - val_loss: 0.0439 - val_accuracy: 0.9853\n",
      "Epoch 5/10\n",
      "1875/1875 [==============================] - 73s 39ms/step - loss: 0.0150 - accuracy: 0.9951 - val_loss: 0.0487 - val_accuracy: 0.9863\n",
      "Epoch 6/10\n",
      "1875/1875 [==============================] - 73s 39ms/step - loss: 0.0113 - accuracy: 0.9965 - val_loss: 0.0481 - val_accuracy: 0.9856\n",
      "Epoch 7/10\n",
      "1875/1875 [==============================] - 89s 47ms/step - loss: 0.0076 - accuracy: 0.9977 - val_loss: 0.0478 - val_accuracy: 0.9872\n",
      "Epoch 8/10\n",
      "1875/1875 [==============================] - 85s 45ms/step - loss: 0.0067 - accuracy: 0.9977 - val_loss: 0.0570 - val_accuracy: 0.9856\n",
      "Epoch 9/10\n",
      "1875/1875 [==============================] - 79s 42ms/step - loss: 0.0046 - accuracy: 0.9984 - val_loss: 0.0609 - val_accuracy: 0.9855\n",
      "Epoch 10/10\n",
      "1875/1875 [==============================] - 79s 42ms/step - loss: 0.0041 - accuracy: 0.9987 - val_loss: 0.0669 - val_accuracy: 0.9855\n"
     ]
    },
    {
     "data": {
      "text/plain": [
       "<keras.callbacks.History at 0x1637224a760>"
      ]
     },
     "execution_count": 12,
     "metadata": {},
     "output_type": "execute_result"
    }
   ],
   "source": [
    "# Train the model\n",
    "model1.fit(x_train, y_train, epochs=10, batch_size=32, validation_data=(x_test, y_test))\n"
   ]
  },
  {
   "cell_type": "code",
   "execution_count": 13,
   "id": "446f0bbd",
   "metadata": {},
   "outputs": [
    {
     "name": "stdout",
     "output_type": "stream",
     "text": [
      "313/313 [==============================] - 3s 10ms/step - loss: 0.0669 - accuracy: 0.9855\n"
     ]
    }
   ],
   "source": [
    "# Evaluate the model\n",
    "_, acc1 = model1.evaluate(x_test, y_test)\n"
   ]
  },
  {
   "cell_type": "markdown",
   "id": "8bb28445",
   "metadata": {},
   "source": [
    "### Define the second CNN architecture"
   ]
  },
  {
   "cell_type": "code",
   "execution_count": 14,
   "id": "a61a1c27",
   "metadata": {},
   "outputs": [],
   "source": [
    "# Define the second CNN architecture\n",
    "model2 = Sequential([\n",
    "    Conv2D(16, (3, 3), activation='relu', input_shape=(28, 28, 1)),\n",
    "    MaxPooling2D((2, 2)),\n",
    "    Conv2D(32, (3, 3), activation='relu'),\n",
    "    MaxPooling2D((2, 2)),\n",
    "    Flatten(),\n",
    "    Dense(64, activation='relu'),\n",
    "    Dense(10, activation='softmax')\n",
    "])"
   ]
  },
  {
   "cell_type": "code",
   "execution_count": 15,
   "id": "f045ee71",
   "metadata": {},
   "outputs": [],
   "source": [
    "# Compile the model\n",
    "model2.compile(optimizer='adam', loss='sparse_categorical_crossentropy', metrics=['accuracy'])\n"
   ]
  },
  {
   "cell_type": "code",
   "execution_count": 16,
   "id": "c21443f5",
   "metadata": {},
   "outputs": [
    {
     "name": "stdout",
     "output_type": "stream",
     "text": [
      "Epoch 1/10\n",
      "1875/1875 [==============================] - 53s 27ms/step - loss: 0.1807 - accuracy: 0.9456 - val_loss: 0.0670 - val_accuracy: 0.9780\n",
      "Epoch 2/10\n",
      "1875/1875 [==============================] - 47s 25ms/step - loss: 0.0612 - accuracy: 0.9807 - val_loss: 0.0414 - val_accuracy: 0.9879\n",
      "Epoch 3/10\n",
      "1875/1875 [==============================] - 53s 28ms/step - loss: 0.0431 - accuracy: 0.9863 - val_loss: 0.0397 - val_accuracy: 0.9883\n",
      "Epoch 4/10\n",
      "1875/1875 [==============================] - 51s 27ms/step - loss: 0.0322 - accuracy: 0.9896 - val_loss: 0.0527 - val_accuracy: 0.9832\n",
      "Epoch 5/10\n",
      "1875/1875 [==============================] - 47s 25ms/step - loss: 0.0245 - accuracy: 0.9917 - val_loss: 0.0400 - val_accuracy: 0.9864\n",
      "Epoch 6/10\n",
      "1875/1875 [==============================] - 45s 24ms/step - loss: 0.0196 - accuracy: 0.9937 - val_loss: 0.0317 - val_accuracy: 0.9896\n",
      "Epoch 7/10\n",
      "1875/1875 [==============================] - 53s 28ms/step - loss: 0.0161 - accuracy: 0.9948 - val_loss: 0.0311 - val_accuracy: 0.9903\n",
      "Epoch 8/10\n",
      "1875/1875 [==============================] - 56s 30ms/step - loss: 0.0122 - accuracy: 0.9960 - val_loss: 0.0299 - val_accuracy: 0.9909\n",
      "Epoch 9/10\n",
      "1875/1875 [==============================] - 59s 31ms/step - loss: 0.0120 - accuracy: 0.9959 - val_loss: 0.0340 - val_accuracy: 0.9910\n",
      "Epoch 10/10\n",
      "1875/1875 [==============================] - 42s 23ms/step - loss: 0.0088 - accuracy: 0.9969 - val_loss: 0.0435 - val_accuracy: 0.9886\n"
     ]
    },
    {
     "data": {
      "text/plain": [
       "<keras.callbacks.History at 0x16321a9dd90>"
      ]
     },
     "execution_count": 16,
     "metadata": {},
     "output_type": "execute_result"
    }
   ],
   "source": [
    "# Train the model\n",
    "model2.fit(x_train, y_train, epochs=10, batch_size=32, validation_data=(x_test, y_test))\n"
   ]
  },
  {
   "cell_type": "code",
   "execution_count": 17,
   "id": "f81b7c62",
   "metadata": {},
   "outputs": [
    {
     "name": "stdout",
     "output_type": "stream",
     "text": [
      "313/313 [==============================] - 3s 9ms/step - loss: 0.0435 - accuracy: 0.9886\n"
     ]
    }
   ],
   "source": [
    "# Evaluate the model\n",
    "_, acc2 = model2.evaluate(x_test, y_test)"
   ]
  },
  {
   "cell_type": "markdown",
   "id": "a28bdfc8",
   "metadata": {},
   "source": [
    "## Define the third CNN architecture"
   ]
  },
  {
   "cell_type": "code",
   "execution_count": 18,
   "id": "b5475643",
   "metadata": {},
   "outputs": [],
   "source": [
    "# Define the third CNN architecture\n",
    "model3 = Sequential([\n",
    "    Conv2D(8, (3, 3), activation='relu', input_shape=(28, 28, 1)),\n",
    "    Conv2D(16, (3, 3), activation='relu'),\n",
    "    MaxPooling2D((2, 2)),\n",
    "    Flatten(),\n",
    "    Dense(32, activation='relu'),\n",
    "    Dense(10, activation='softmax')\n",
    "])"
   ]
  },
  {
   "cell_type": "code",
   "execution_count": 19,
   "id": "5dae0053",
   "metadata": {},
   "outputs": [],
   "source": [
    "# Compile the model\n",
    "model3.compile(optimizer='adam', loss='sparse_categorical_crossentropy', metrics=['accuracy'])\n"
   ]
  },
  {
   "cell_type": "code",
   "execution_count": 20,
   "id": "b698d014",
   "metadata": {},
   "outputs": [
    {
     "name": "stdout",
     "output_type": "stream",
     "text": [
      "Epoch 1/10\n",
      "1875/1875 [==============================] - 64s 33ms/step - loss: 0.2068 - accuracy: 0.9386 - val_loss: 0.0841 - val_accuracy: 0.9729\n",
      "Epoch 2/10\n",
      "1875/1875 [==============================] - 62s 33ms/step - loss: 0.0668 - accuracy: 0.9796 - val_loss: 0.0489 - val_accuracy: 0.9846\n",
      "Epoch 3/10\n",
      "1875/1875 [==============================] - 55s 29ms/step - loss: 0.0475 - accuracy: 0.9849 - val_loss: 0.0508 - val_accuracy: 0.9844\n",
      "Epoch 4/10\n",
      "1875/1875 [==============================] - 71s 38ms/step - loss: 0.0356 - accuracy: 0.9887 - val_loss: 0.0451 - val_accuracy: 0.9851\n",
      "Epoch 5/10\n",
      "1875/1875 [==============================] - 72s 38ms/step - loss: 0.0260 - accuracy: 0.9918 - val_loss: 0.0438 - val_accuracy: 0.9868\n",
      "Epoch 6/10\n",
      "1875/1875 [==============================] - 79s 42ms/step - loss: 0.0205 - accuracy: 0.9930 - val_loss: 0.0398 - val_accuracy: 0.9877\n",
      "Epoch 7/10\n",
      "1875/1875 [==============================] - 72s 38ms/step - loss: 0.0153 - accuracy: 0.9950 - val_loss: 0.0498 - val_accuracy: 0.9857\n",
      "Epoch 8/10\n",
      "1875/1875 [==============================] - 80s 43ms/step - loss: 0.0139 - accuracy: 0.9955 - val_loss: 0.0489 - val_accuracy: 0.9857\n",
      "Epoch 9/10\n",
      "1875/1875 [==============================] - 68s 36ms/step - loss: 0.0105 - accuracy: 0.9964 - val_loss: 0.0513 - val_accuracy: 0.9878\n",
      "Epoch 10/10\n",
      "1875/1875 [==============================] - 77s 41ms/step - loss: 0.0091 - accuracy: 0.9970 - val_loss: 0.0521 - val_accuracy: 0.9873\n"
     ]
    },
    {
     "data": {
      "text/plain": [
       "<keras.callbacks.History at 0x16321c92cd0>"
      ]
     },
     "execution_count": 20,
     "metadata": {},
     "output_type": "execute_result"
    }
   ],
   "source": [
    "# Train the model\n",
    "model3.fit(x_train, y_train, epochs=10, batch_size=32, validation_data=(x_test, y_test))\n"
   ]
  },
  {
   "cell_type": "code",
   "execution_count": 21,
   "id": "bcdbf348",
   "metadata": {},
   "outputs": [
    {
     "name": "stdout",
     "output_type": "stream",
     "text": [
      "313/313 [==============================] - 4s 13ms/step - loss: 0.0521 - accuracy: 0.9873\n"
     ]
    }
   ],
   "source": [
    "# Evaluate the model\n",
    "_, acc3 = model3.evaluate(x_test, y_test)\n"
   ]
  },
  {
   "cell_type": "code",
   "execution_count": 22,
   "id": "142e3f69",
   "metadata": {},
   "outputs": [],
   "source": [
    "# Create a comparison table\n",
    "import pandas as pd\n",
    "\n",
    "data = {\n",
    "    'Model': ['Model 1', 'Model 2', 'Model 3'],\n",
    "    'Accuracy': [acc1, acc2, acc3],\n",
    "    'Parameters': [model1.count_params(), model2.count_params(), model3.count_params()]\n",
    "}"
   ]
  },
  {
   "cell_type": "code",
   "execution_count": 23,
   "id": "9fcd9de1",
   "metadata": {},
   "outputs": [
    {
     "name": "stdout",
     "output_type": "stream",
     "text": [
      "     Model  Accuracy  Parameters\n",
      "0  Model 1    0.9855      693962\n",
      "1  Model 2    0.9886       56714\n",
      "2  Model 3    0.9873       75338\n"
     ]
    }
   ],
   "source": [
    "df = pd.DataFrame(data)\n",
    "print(df)"
   ]
  },
  {
   "cell_type": "markdown",
   "id": "df408192",
   "metadata": {},
   "source": [
    "# Thank You"
   ]
  }
 ],
 "metadata": {
  "kernelspec": {
   "display_name": "Python 3 (ipykernel)",
   "language": "python",
   "name": "python3"
  },
  "language_info": {
   "codemirror_mode": {
    "name": "ipython",
    "version": 3
   },
   "file_extension": ".py",
   "mimetype": "text/x-python",
   "name": "python",
   "nbconvert_exporter": "python",
   "pygments_lexer": "ipython3",
   "version": "3.9.7"
  }
 },
 "nbformat": 4,
 "nbformat_minor": 5
}
